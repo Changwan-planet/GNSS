{
 "cells": [
  {
   "cell_type": "code",
   "execution_count": 9,
   "id": "891438e7",
   "metadata": {},
   "outputs": [
    {
     "name": "stdout",
     "output_type": "stream",
     "text": [
      "max number of GNSS points 147\n",
      "\"tm_size\" means the number of GNSS points\n",
      "tm_size= 87\n",
      "\"tm_size\" means the number of GNSS points\n",
      "tm_size= 72\n"
     ]
    },
    {
     "ename": "KeyError",
     "evalue": "0",
     "output_type": "error",
     "traceback": [
      "\u001b[0;31m---------------------------------------------------------------------------\u001b[0m",
      "\u001b[0;31mKeyError\u001b[0m                                  Traceback (most recent call last)",
      "\u001b[0;32m~/anaconda3/lib/python3.9/site-packages/pandas/core/indexes/base.py\u001b[0m in \u001b[0;36mget_loc\u001b[0;34m(self, key, method, tolerance)\u001b[0m\n\u001b[1;32m   3360\u001b[0m             \u001b[0;32mtry\u001b[0m\u001b[0;34m:\u001b[0m\u001b[0;34m\u001b[0m\u001b[0;34m\u001b[0m\u001b[0m\n\u001b[0;32m-> 3361\u001b[0;31m                 \u001b[0;32mreturn\u001b[0m \u001b[0mself\u001b[0m\u001b[0;34m.\u001b[0m\u001b[0m_engine\u001b[0m\u001b[0;34m.\u001b[0m\u001b[0mget_loc\u001b[0m\u001b[0;34m(\u001b[0m\u001b[0mcasted_key\u001b[0m\u001b[0;34m)\u001b[0m\u001b[0;34m\u001b[0m\u001b[0;34m\u001b[0m\u001b[0m\n\u001b[0m\u001b[1;32m   3362\u001b[0m             \u001b[0;32mexcept\u001b[0m \u001b[0mKeyError\u001b[0m \u001b[0;32mas\u001b[0m \u001b[0merr\u001b[0m\u001b[0;34m:\u001b[0m\u001b[0;34m\u001b[0m\u001b[0;34m\u001b[0m\u001b[0m\n",
      "\u001b[0;32m~/anaconda3/lib/python3.9/site-packages/pandas/_libs/index.pyx\u001b[0m in \u001b[0;36mpandas._libs.index.IndexEngine.get_loc\u001b[0;34m()\u001b[0m\n",
      "\u001b[0;32m~/anaconda3/lib/python3.9/site-packages/pandas/_libs/index.pyx\u001b[0m in \u001b[0;36mpandas._libs.index.IndexEngine.get_loc\u001b[0;34m()\u001b[0m\n",
      "\u001b[0;32mpandas/_libs/hashtable_class_helper.pxi\u001b[0m in \u001b[0;36mpandas._libs.hashtable.Int64HashTable.get_item\u001b[0;34m()\u001b[0m\n",
      "\u001b[0;32mpandas/_libs/hashtable_class_helper.pxi\u001b[0m in \u001b[0;36mpandas._libs.hashtable.Int64HashTable.get_item\u001b[0;34m()\u001b[0m\n",
      "\u001b[0;31mKeyError\u001b[0m: 0",
      "\nThe above exception was the direct cause of the following exception:\n",
      "\u001b[0;31mKeyError\u001b[0m                                  Traceback (most recent call last)",
      "\u001b[0;32m/tmp/ipykernel_245942/2582014024.py\u001b[0m in \u001b[0;36m<module>\u001b[0;34m\u001b[0m\n\u001b[1;32m     36\u001b[0m \u001b[0;34m\u001b[0m\u001b[0m\n\u001b[1;32m     37\u001b[0m \u001b[0;32mfor\u001b[0m \u001b[0mj\u001b[0m \u001b[0;32min\u001b[0m \u001b[0mnp\u001b[0m\u001b[0;34m.\u001b[0m\u001b[0marange\u001b[0m\u001b[0;34m(\u001b[0m\u001b[0;36m0\u001b[0m\u001b[0;34m,\u001b[0m\u001b[0mtm_size\u001b[0m\u001b[0;34m,\u001b[0m\u001b[0;36m1\u001b[0m\u001b[0;34m)\u001b[0m\u001b[0;34m:\u001b[0m\u001b[0;34m\u001b[0m\u001b[0;34m\u001b[0m\u001b[0m\n\u001b[0;32m---> 38\u001b[0;31m     \u001b[0mGNSS\u001b[0m\u001b[0;34m[\u001b[0m\u001b[0;36m1\u001b[0m\u001b[0;34m]\u001b[0m\u001b[0;34m[\u001b[0m\u001b[0mj\u001b[0m\u001b[0;34m]\u001b[0m \u001b[0;34m=\u001b[0m \u001b[0mtm\u001b[0m\u001b[0;34m[\u001b[0m\u001b[0;34m\"Elev\"\u001b[0m\u001b[0;34m]\u001b[0m\u001b[0;34m[\u001b[0m\u001b[0mj\u001b[0m\u001b[0;34m]\u001b[0m\u001b[0;34m\u001b[0m\u001b[0;34m\u001b[0m\u001b[0m\n\u001b[0m\u001b[1;32m     39\u001b[0m \u001b[0;34m\u001b[0m\u001b[0m\n\u001b[1;32m     40\u001b[0m \u001b[0;31m#print(np.size(GNSS[0][0:tm_size]))\u001b[0m\u001b[0;34m\u001b[0m\u001b[0;34m\u001b[0m\u001b[0m\n",
      "\u001b[0;32m~/anaconda3/lib/python3.9/site-packages/pandas/core/series.py\u001b[0m in \u001b[0;36m__getitem__\u001b[0;34m(self, key)\u001b[0m\n\u001b[1;32m    940\u001b[0m \u001b[0;34m\u001b[0m\u001b[0m\n\u001b[1;32m    941\u001b[0m         \u001b[0;32melif\u001b[0m \u001b[0mkey_is_scalar\u001b[0m\u001b[0;34m:\u001b[0m\u001b[0;34m\u001b[0m\u001b[0;34m\u001b[0m\u001b[0m\n\u001b[0;32m--> 942\u001b[0;31m             \u001b[0;32mreturn\u001b[0m \u001b[0mself\u001b[0m\u001b[0;34m.\u001b[0m\u001b[0m_get_value\u001b[0m\u001b[0;34m(\u001b[0m\u001b[0mkey\u001b[0m\u001b[0;34m)\u001b[0m\u001b[0;34m\u001b[0m\u001b[0;34m\u001b[0m\u001b[0m\n\u001b[0m\u001b[1;32m    943\u001b[0m \u001b[0;34m\u001b[0m\u001b[0m\n\u001b[1;32m    944\u001b[0m         \u001b[0;32mif\u001b[0m \u001b[0mis_hashable\u001b[0m\u001b[0;34m(\u001b[0m\u001b[0mkey\u001b[0m\u001b[0;34m)\u001b[0m\u001b[0;34m:\u001b[0m\u001b[0;34m\u001b[0m\u001b[0;34m\u001b[0m\u001b[0m\n",
      "\u001b[0;32m~/anaconda3/lib/python3.9/site-packages/pandas/core/series.py\u001b[0m in \u001b[0;36m_get_value\u001b[0;34m(self, label, takeable)\u001b[0m\n\u001b[1;32m   1049\u001b[0m \u001b[0;34m\u001b[0m\u001b[0m\n\u001b[1;32m   1050\u001b[0m         \u001b[0;31m# Similar to Index.get_value, but we do not fall back to positional\u001b[0m\u001b[0;34m\u001b[0m\u001b[0;34m\u001b[0m\u001b[0m\n\u001b[0;32m-> 1051\u001b[0;31m         \u001b[0mloc\u001b[0m \u001b[0;34m=\u001b[0m \u001b[0mself\u001b[0m\u001b[0;34m.\u001b[0m\u001b[0mindex\u001b[0m\u001b[0;34m.\u001b[0m\u001b[0mget_loc\u001b[0m\u001b[0;34m(\u001b[0m\u001b[0mlabel\u001b[0m\u001b[0;34m)\u001b[0m\u001b[0;34m\u001b[0m\u001b[0;34m\u001b[0m\u001b[0m\n\u001b[0m\u001b[1;32m   1052\u001b[0m         \u001b[0;32mreturn\u001b[0m \u001b[0mself\u001b[0m\u001b[0;34m.\u001b[0m\u001b[0mindex\u001b[0m\u001b[0;34m.\u001b[0m\u001b[0m_get_values_for_loc\u001b[0m\u001b[0;34m(\u001b[0m\u001b[0mself\u001b[0m\u001b[0;34m,\u001b[0m \u001b[0mloc\u001b[0m\u001b[0;34m,\u001b[0m \u001b[0mlabel\u001b[0m\u001b[0;34m)\u001b[0m\u001b[0;34m\u001b[0m\u001b[0;34m\u001b[0m\u001b[0m\n\u001b[1;32m   1053\u001b[0m \u001b[0;34m\u001b[0m\u001b[0m\n",
      "\u001b[0;32m~/anaconda3/lib/python3.9/site-packages/pandas/core/indexes/base.py\u001b[0m in \u001b[0;36mget_loc\u001b[0;34m(self, key, method, tolerance)\u001b[0m\n\u001b[1;32m   3361\u001b[0m                 \u001b[0;32mreturn\u001b[0m \u001b[0mself\u001b[0m\u001b[0;34m.\u001b[0m\u001b[0m_engine\u001b[0m\u001b[0;34m.\u001b[0m\u001b[0mget_loc\u001b[0m\u001b[0;34m(\u001b[0m\u001b[0mcasted_key\u001b[0m\u001b[0;34m)\u001b[0m\u001b[0;34m\u001b[0m\u001b[0;34m\u001b[0m\u001b[0m\n\u001b[1;32m   3362\u001b[0m             \u001b[0;32mexcept\u001b[0m \u001b[0mKeyError\u001b[0m \u001b[0;32mas\u001b[0m \u001b[0merr\u001b[0m\u001b[0;34m:\u001b[0m\u001b[0;34m\u001b[0m\u001b[0;34m\u001b[0m\u001b[0m\n\u001b[0;32m-> 3363\u001b[0;31m                 \u001b[0;32mraise\u001b[0m \u001b[0mKeyError\u001b[0m\u001b[0;34m(\u001b[0m\u001b[0mkey\u001b[0m\u001b[0;34m)\u001b[0m \u001b[0;32mfrom\u001b[0m \u001b[0merr\u001b[0m\u001b[0;34m\u001b[0m\u001b[0;34m\u001b[0m\u001b[0m\n\u001b[0m\u001b[1;32m   3364\u001b[0m \u001b[0;34m\u001b[0m\u001b[0m\n\u001b[1;32m   3365\u001b[0m         \u001b[0;32mif\u001b[0m \u001b[0mis_scalar\u001b[0m\u001b[0;34m(\u001b[0m\u001b[0mkey\u001b[0m\u001b[0;34m)\u001b[0m \u001b[0;32mand\u001b[0m \u001b[0misna\u001b[0m\u001b[0;34m(\u001b[0m\u001b[0mkey\u001b[0m\u001b[0;34m)\u001b[0m \u001b[0;32mand\u001b[0m \u001b[0;32mnot\u001b[0m \u001b[0mself\u001b[0m\u001b[0;34m.\u001b[0m\u001b[0mhasnans\u001b[0m\u001b[0;34m:\u001b[0m\u001b[0;34m\u001b[0m\u001b[0;34m\u001b[0m\u001b[0m\n",
      "\u001b[0;31mKeyError\u001b[0m: 0"
     ]
    }
   ],
   "source": [
    "import pandas as pd\n",
    "import matplotlib.pyplot as plt\n",
    "import numpy as np\n",
    "\n",
    "ch = pd.read_csv(\"Ch_ele.txt\", delim_whitespace=True,\n",
    "          header=None, names=[\"Elev\",\"Index\"])\n",
    "tr = pd.read_csv(\"trace.txt\", delim_whitespace=True,\n",
    "          header=None, names=[\"GPR_points\"])\n",
    "\n",
    "N = 110\n",
    "max = 0\n",
    "\n",
    "for i in np.arange(1,N+1,1):\n",
    "    tm = ch.loc[ch[\"Index\"]==str(i),[\"Elev\"]]\n",
    "    size = np.size(tm)\n",
    "\n",
    "    if(max < size):\n",
    "        max = size\n",
    "    \n",
    "print(\"max number of GNSS points\",max)\n",
    "\n",
    "GNSS = np.zeros(shape=(N,size))\n",
    "\n",
    "tm = ch.loc[ch[\"Index\"]==str(1),[\"Elev\"]]\n",
    "tm_size = np.size(tm)\n",
    "print(\"\\\"tm_size\\\" means the number of GNSS points\")\n",
    "print(\"tm_size=\",tm_size)\n",
    "\n",
    "for j in np.arange(0,tm_size,1):\n",
    "    GNSS[0][j] = tm[\"Elev\"][j]\n",
    "\n",
    "#print(np.size(GNSS[0][0:tm_size]))\n",
    "plt.plot(GNSS[0][0:tm_size], \"ro-\")\n"
   ]
  },
  {
   "cell_type": "code",
   "execution_count": 103,
   "id": "0de30df7",
   "metadata": {},
   "outputs": [
    {
     "name": "stdout",
     "output_type": "stream",
     "text": [
      "G_point= 1547\n",
      "Elev_ch2= 1547\n",
      "itv=round(G_point/tm_size) \n"
     ]
    },
    {
     "data": {
      "image/png": "[encoded data removed]",
      "text/plain": [
       "<Figure size 432x288 with 1 Axes>"
      ]
     },
     "metadata": {
      "needs_background": "light"
     },
     "output_type": "display_data"
    }
   ],
   "source": [
    "G_point = tr[\"GPR_points\"][0]\n",
    "print(\"G_point=\",G_point)\n",
    "\n",
    "ratio = tm_size / G_point\n",
    "\n",
    "Elev_ch2 = np.zeros(shape=G_point)\n",
    "Elev_ch3 = np.zeros(shape=G_point)\n",
    "\n",
    "tm2 = np.zeros(shape=G_point)\n",
    "\n",
    "print(\"Elev_ch2=\",np.size(Elev_ch2))    \n",
    "\n",
    "print(\"itv=round(G_point/tm_size) \")\n",
    "itv = round(G_point/tm_size)\n",
    "\n",
    "\n",
    "for j in np.arange(0,tm_size-1,1):\n",
    "    Elev_ch2[j*itv] = tm[\"Elev\"][j]\n",
    "    Elev_ch3[j*itv] = tm[\"Elev\"][j]\n",
    "    \n",
    "    #print(j*18)\n",
    "Elev_ch2[-1] = GNSS[0][tm_size-1]\n",
    "   \n",
    "plt.plot(Elev_ch2[0:30],\"o\")    \n",
    "plt.grid()"
   ]
  },
  {
   "cell_type": "code",
   "execution_count": 105,
   "id": "9c6516e8",
   "metadata": {},
   "outputs": [
    {
     "data": {
      "text/plain": [
       "[<matplotlib.lines.Line2D at 0x7f1708b18d90>]"
      ]
     },
     "execution_count": 105,
     "metadata": {},
     "output_type": "execute_result"
    },
    {
     "data": {
      "image/png": "[encoded data removed]",
      "text/plain": [
       "<Figure size 432x288 with 1 Axes>"
      ]
     },
     "metadata": {
      "needs_background": "light"
     },
     "output_type": "display_data"
    }
   ],
   "source": [
    "for j in np.arange(0,(tm_size-2)*itv,itv):    \n",
    "    for i in np.arange(1,itv,1):       \n",
    "        if(Elev_ch2[j]-Elev_ch2[j-itv] > 0):\n",
    "            Elev_ch2[j+i] = Elev_ch2[j] + ( (i*0.05) * (Elev_ch2[j+itv] - Elev_ch2[j])/(0.05 * itv) )\n",
    "                \n",
    "        elif(Elev_ch2[j]-Elev_ch2[j-itv] < 0):\n",
    "            Elev_ch2[j+i] = Elev_ch2[j] + ( (i*0.05) * (Elev_ch2[j+itv] - Elev_ch2[j])/(0.05 * itv) )                \n",
    "\n",
    "plt.plot(Elev_ch2[:1530],\"o\")"
   ]
  },
  {
   "cell_type": "code",
   "execution_count": 114,
   "id": "961919bc",
   "metadata": {},
   "outputs": [
    {
     "name": "stdout",
     "output_type": "stream",
     "text": [
      "1530\n"
     ]
    },
    {
     "data": {
      "text/plain": [
       "[<matplotlib.lines.Line2D at 0x7f1708a9e070>]"
      ]
     },
     "execution_count": 114,
     "metadata": {},
     "output_type": "execute_result"
    },
    {
     "data": {
      "image/png": "[encoded data removed]",
      "text/plain": [
       "<Figure size 432x288 with 1 Axes>"
      ]
     },
     "metadata": {
      "needs_background": "light"
     },
     "output_type": "display_data"
    }
   ],
   "source": [
    "#for j in np.arange(0,(tm_size-2)*itv,itv):    \n",
    "j = (tm_size-2)*itv\n",
    "print(j)\n",
    "\n",
    "for i in np.arange(1,G_point - j ,1):       \n",
    "    if(Elev_ch2[j]-Elev_ch2[j-itv] > 0):\n",
    "            Elev_ch2[j+i] = Elev_ch2[j] + ( (i*0.05) * (Elev_ch2[-1] - Elev_ch2[j])/(0.05 * itv) )\n",
    "            #print(j+i)        \n",
    "    elif(Elev_ch2[j]-Elev_ch2[j-itv] < 0):\n",
    "            Elev_ch2[j+i] = Elev_ch2[j] + ( (i*0.05) * (Elev_ch2[-1] - Elev_ch2[j])/(0.05 * itv) )                \n",
    "plt.plot(Elev_ch2)"
   ]
  },
  {
   "cell_type": "code",
   "execution_count": null,
   "id": "4b95316d",
   "metadata": {},
   "outputs": [],
   "source": [
    "#insert last element\n",
    "s_03 = np.append(s_02,s_02[-1]+16)\n",
    "\n",
    "print(\"\")\n",
    "print(s_03)\n",
    "print(\"s_03 size=\",np.size(s_03))\n",
    "print(\"The reason why we need s_03 is that s_02 do not reflect the last part of the Elev_ch03\")"
   ]
  },
  {
   "cell_type": "code",
   "execution_count": null,
   "id": "d10eb2d4",
   "metadata": {},
   "outputs": [],
   "source": [
    "\"\"\"\n",
    "j=s_02[-1]+1\n",
    "#print(j)\n",
    "#print(G_point)\n",
    "#print(G_point-j)\n",
    "n = G_point - j\n",
    "\n",
    "print(Elev_ch3[j-1])\n",
    "print(Elev_ch3[j-n])\n",
    "print(Elev_ch3[j-1] - Elev_ch3[j-n])\n",
    "\n",
    "print(\"\")\n",
    "for i in np.arange(j,G_point,1): \n",
    "#        print(i)\n",
    "        if(Elev_ch3[j-1]-Elev_ch3[j-n] > 0):\n",
    "            Elev_ch3[i] = Elev_ch3[j-n] + ((i-j)*0.05) *(Elev_ch3[j-1] - Elev_ch3[j-n])/(0.05*n)\n",
    "            \n",
    "            \n",
    "        elif(Elev_ch3[j-1]-Elev_ch3[j-n] < 0):\n",
    "#            print(j-n)\n",
    "            Elev_ch3[i] = Elev_ch3[j-n] + ((i-j)*0.05) *(Elev_ch3[j-1] - Elev_ch3[j-n])/(0.05*n)\n",
    "#            print(Elev_ch3[j-n], Elev_ch3[j],j)\n",
    "        #print(i, Elev_ch3[i])\n",
    "\"\"\"\n",
    "\n"
   ]
  }
 ],
 "metadata": {
  "kernelspec": {
   "display_name": "Python 3 (ipykernel)",
   "language": "python",
   "name": "python3"
  },
  "language_info": {
   "codemirror_mode": {
    "name": "ipython",
    "version": 3
   },
   "file_extension": ".py",
   "mimetype": "text/x-python",
   "name": "python",
   "nbconvert_exporter": "python",
   "pygments_lexer": "ipython3",
   "version": "3.9.7"
  }
 },
 "nbformat": 4,
 "nbformat_minor": 5
}
