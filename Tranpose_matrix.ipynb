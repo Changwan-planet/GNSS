{
 "cells": [
  {
   "cell_type": "code",
   "execution_count": 1,
   "id": "fa3f5a54",
   "metadata": {},
   "outputs": [
    {
     "name": "stdout",
     "output_type": "stream",
     "text": [
      "<class 'pandas.core.frame.DataFrame'>\n",
      "RangeIndex: 110 entries, 0 to 109\n",
      "Columns: 1525 entries, 0 to 1524\n",
      "dtypes: float64(1525)\n",
      "memory usage: 1.3 MB\n"
     ]
    }
   ],
   "source": [
    "import pandas as pd\n",
    "import matplotlib.pyplot as plt\n",
    "import numpy as np\n",
    "\n",
    "#ch = pd.read_csv(\"AA5.dat\", delim_whitespace=True,header=None)\n",
    "ch = pd.read_csv(\"Mogod_morph_rm_trend.txt\", delim_whitespace=True,header=None)\n",
    "\n",
    "ch.info()"
   ]
  },
  {
   "cell_type": "code",
   "execution_count": 2,
   "id": "f03ad60b",
   "metadata": {},
   "outputs": [
    {
     "data": {
      "text/plain": [
       "<matplotlib.image.AxesImage at 0x7fc17b624760>"
      ]
     },
     "execution_count": 2,
     "metadata": {},
     "output_type": "execute_result"
    },
    {
     "data": {
      "image/png": "[encoded data removed]",
      "text/plain": [
       "<Figure size 432x288 with 1 Axes>"
      ]
     },
     "metadata": {
      "needs_background": "light"
     },
     "output_type": "display_data"
    }
   ],
   "source": [
    "plt.imshow(ch)\n"
   ]
  },
  {
   "cell_type": "code",
   "execution_count": 3,
   "id": "37a2fa3c",
   "metadata": {},
   "outputs": [
    {
     "name": "stdout",
     "output_type": "stream",
     "text": [
      "<class 'pandas.core.frame.DataFrame'>\n",
      "RangeIndex: 110 entries, 0 to 109\n",
      "Columns: 1498 entries, 0 to 1497\n",
      "dtypes: float64(1498)\n",
      "memory usage: 1.3 MB\n"
     ]
    }
   ],
   "source": [
    "N = 110\n",
    "DIS = 1498\n",
    "ch2 = np.zeros(shape=(N,DIS),dtype=float)\n",
    "ch2 = pd.DataFrame(ch2)\n",
    "ch2.info()\n",
    "#print(ch2[1][1])\n",
    "\n",
    "for n in np.arange(0,DIS,1):\n",
    "    for j in np.arange(0,N,1):\n",
    "            ch2[n][j] = ch[n][j]\n"
   ]
  },
  {
   "cell_type": "code",
   "execution_count": 4,
   "id": "2bc35bef",
   "metadata": {},
   "outputs": [
    {
     "data": {
      "text/plain": [
       "<matplotlib.image.AxesImage at 0x7fc17aad4a90>"
      ]
     },
     "execution_count": 4,
     "metadata": {},
     "output_type": "execute_result"
    },
    {
     "data": {
      "image/png": "[encoded data removed]",
      "text/plain": [
       "<Figure size 432x288 with 1 Axes>"
      ]
     },
     "metadata": {
      "needs_background": "light"
     },
     "output_type": "display_data"
    }
   ],
   "source": [
    "ch3 = np.zeros(shape=(DIS,N),dtype=float)\n",
    "ch3 = pd.DataFrame(ch3)\n",
    "for i in range(len(ch2.columns)):\n",
    "   # iterate through columns\n",
    "   for j in range(len(ch2[0])):\n",
    "       ch3[j][i] = ch2[i][j]\n",
    "    \n",
    "#plt.imshow(ch3)\n"
   ]
  },
  {
   "cell_type": "code",
   "execution_count": 5,
   "id": "7c8e5196",
   "metadata": {},
   "outputs": [
    {
     "name": "stdout",
     "output_type": "stream",
     "text": [
      "<class 'pandas.core.frame.DataFrame'>\n",
      "RangeIndex: 1498 entries, 0 to 1497\n",
      "Columns: 110 entries, 0 to 109\n",
      "dtypes: float64(110)\n",
      "memory usage: 1.3 MB\n"
     ]
    }
   ],
   "source": [
    "ch4 = np.zeros(shape=(DIS,N),dtype=float)\n",
    "ch4 = pd.DataFrame(ch4)\n",
    "\n",
    "for i in range(len(ch2.columns)):\n",
    "   # iterate through columns\n",
    "   for j in range(len(ch2[0])):\n",
    "       ch4[j][i] = ch3[j][len(ch2.columns)-i-1]\n",
    "ch4.info()"
   ]
  },
  {
   "cell_type": "code",
   "execution_count": 6,
   "id": "14d26efe",
   "metadata": {},
   "outputs": [],
   "source": [
    "f4=open(\"Mogod_morph_rm_trend_transpose.txt\",'w')\n",
    "\n",
    "#np.savetxt(f3, np.transpose(high2), \"%12.6f\")\n",
    "#np.savetxt(f3, np.transpose(np.flipud(high2)), \"%12.6f\")\n",
    "#np.savetxt(f3, np.flipud(high2), \"%12.6f\")\n",
    "\n",
    "#np.savetxt(f4, curve[4:107], \"%d\")\n",
    "\n",
    "\n",
    "np.savetxt(f4, ch4, \"%f\")"
   ]
  }
 ],
 "metadata": {
  "kernelspec": {
   "display_name": "Python 3 (ipykernel)",
   "language": "python",
   "name": "python3"
  },
  "language_info": {
   "codemirror_mode": {
    "name": "ipython",
    "version": 3
   },
   "file_extension": ".py",
   "mimetype": "text/x-python",
   "name": "python",
   "nbconvert_exporter": "python",
   "pygments_lexer": "ipython3",
   "version": "3.9.7"
  }
 },
 "nbformat": 4,
 "nbformat_minor": 5
}
