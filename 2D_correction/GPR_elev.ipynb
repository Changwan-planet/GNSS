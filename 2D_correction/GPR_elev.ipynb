{
 "cells": [
  {
   "cell_type": "code",
   "execution_count": 2,
   "id": "a506819b",
   "metadata": {},
   "outputs": [
    {
     "name": "stdout",
     "output_type": "stream",
     "text": [
      "input= elevation1.txt\n",
      "output= reg_elevation1.txt\n",
      "output2= elevation1_with_dis.txt\n",
      "output3= shift_GPRelev1.txt\n",
      "<class 'pandas.core.frame.DataFrame'>\n",
      "RangeIndex: 398 entries, 0 to 397\n",
      "Data columns (total 2 columns):\n",
      " #   Column     Non-Null Count  Dtype  \n",
      "---  ------     --------------  -----  \n",
      " 0   Elevation  398 non-null    float64\n",
      " 1   Distance   0 non-null      float64\n",
      "dtypes: float64(2)\n",
      "memory usage: 6.3 KB\n",
      "\n",
      "+++++++++++++++++++++++++++++++++\n",
      "depth/samples= 0.041690988085937505\n",
      "+++++++++++++++++++++++++++++++++\n",
      "\n",
      "   Elevation  Distance\n",
      "0    1415.70         1\n",
      "1    1415.70         2\n",
      "2    1415.71         3\n",
      "3    1415.71         4\n",
      "4    1415.71         5\n"
     ]
    },
    {
     "data": {
      "text/plain": [
       "[<matplotlib.lines.Line2D at 0x7f7f55e94370>]"
      ]
     },
     "execution_count": 2,
     "metadata": {},
     "output_type": "execute_result"
    },
    {
     "data": {
      "image/png": "[encoded data removed]",
      "text/plain": [
       "<Figure size 432x288 with 1 Axes>"
      ]
     },
     "metadata": {
      "needs_background": "light"
     },
     "output_type": "display_data"
    }
   ],
   "source": [
    "%matplotlib inline\n",
    "import matplotlib.pyplot as plt\n",
    "import numpy as np\n",
    "import pandas as pd\n",
    "from sklearn import linear_model\n",
    "from sklearn import preprocessing\n",
    "from sklearn import pipeline\n",
    "\n",
    "\n",
    "#==================INPUT INFORNAMTION===================\n",
    "number = \"1\"\n",
    "i_fn = \"elevation\"\n",
    "i_fn2 = i_fn + number\n",
    "ext = \".txt\"\n",
    "i_fn3 = i_fn2 + ext\n",
    "print(\"input=\",i_fn3)\n",
    "o_fn  = \"reg_\"+ i_fn2 + ext\n",
    "o_fn2 = i_fn2 + \"_with_dis\" + ext\n",
    "o_fn3 = \"shift_GPRelev\"+ number + ext\n",
    "print(\"output=\",o_fn)\n",
    "print(\"output2=\",o_fn2)\n",
    "print(\"output3=\",o_fn3)\n",
    "\n",
    "#read *.txt file\n",
    "data = pd.read_csv(i_fn3, sep = \"\\t\", names=['Elevation', 'Distance'],engine='python', encoding = \"cp949\")\n",
    "data.info()\n",
    "\n",
    "#distance\n",
    "#dis = 99.155894\n",
    "#dis = 99.353612\n",
    "#dis = 79.285171\n",
    "dis = 75.519084\n",
    "\n",
    "GNSS_points = 398\n",
    "GPR_points = 1522\n",
    "#=======================================================\n",
    "\n",
    "\n",
    "#distance_interval\n",
    "d_dis = dis/len(data)\n",
    "\n",
    "#insert distance data \n",
    "data['Distance']=range(1,len(data)+1)\n",
    "#data.head()\n",
    "\n",
    "#depth/samples\n",
    "print(\"\")\n",
    "print(\"+++++++++++++++++++++++++++++++++\")\n",
    "samples = 512\n",
    "c=3*(10**8)\n",
    "permit=9.0\n",
    "t_window = 213.457859*10**(-9)\n",
    "depth = t_window*(c/np.sqrt(permit))\n",
    "d_depth = depth / samples\n",
    "print(\"depth/samples=\", d_depth)\n",
    "print(\"+++++++++++++++++++++++++++++++++\")\n",
    "print(\"\")\n",
    "\n",
    "#data[\"Distance\"] = data[\"Distance\"] * d_dis\n",
    "#data.head()\n",
    "\n",
    "print(data.head())\n",
    "x = np.c_[data['Distance']] #np.c_ slice a matrix to use values\n",
    "y = np.c_[data['Elevation']]\n",
    "plt.plot(x,y,'r--')"
   ]
  },
  {
   "cell_type": "code",
   "execution_count": 3,
   "id": "6e64e63f",
   "metadata": {},
   "outputs": [
    {
     "name": "stdout",
     "output_type": "stream",
     "text": [
      "class:  ndarray\n",
      "shape:  (802, 2)\n",
      "strides:  (16, 8)\n",
      "itemsize:  8\n",
      "aligned:  True\n",
      "contiguous:  True\n",
      "fortran:  False\n",
      "data pointer: 0x558fd0cc4ae0\n",
      "byteorder:  little\n",
      "byteswap:  False\n",
      "type: float64\n",
      "\n",
      "class:  ndarray\n",
      "shape:  (398, 2)\n",
      "strides:  (16, 8)\n",
      "itemsize:  8\n",
      "aligned:  True\n",
      "contiguous:  True\n",
      "fortran:  False\n",
      "data pointer: 0x558fd0cc31c0\n",
      "byteorder:  little\n",
      "byteswap:  False\n",
      "type: float64\n"
     ]
    },
    {
     "data": {
      "image/png": "[encoded data removed]",
      "text/plain": [
       "<Figure size 432x288 with 1 Axes>"
      ]
     },
     "metadata": {
      "needs_background": "light"
     },
     "output_type": "display_data"
    }
   ],
   "source": [
    "poly = preprocessing.PolynomialFeatures(degree=48,include_bias=False)\n",
    "scaler = preprocessing.StandardScaler()\n",
    "lin_reg2 = linear_model.LinearRegression()\n",
    "\n",
    "pipeline_reg = pipeline.Pipeline([('poly',poly), ('scal',scaler),('lin', lin_reg2)])\n",
    "pipeline_reg.fit(x,y)\n",
    "\n",
    "GPR_x = range(1,GPR_points+1,1)\n",
    "GPR_x2 = np.array(GPR_x)\n",
    "#GPR_x3=GPR_x2 * 602.0/1003.0\n",
    "GPR_x3=GPR_x2 * GNSS_points/GPR_points\n",
    "\n",
    "GPR_x4=np.c_[GPR_x3]\n",
    "\n",
    "curve = pipeline_reg.predict(GPR_x4)\n",
    "curve2 = np.c_[curve]\n",
    "\n",
    "#np.info(curve2)\n",
    "#print(\"\")\n",
    "#np.info(GPR_x4)\n",
    "#plt.plot(GPR_x4,curve2, 'r--')\n",
    "\n",
    "GPR_elev = np.concatenate((GPR_x4*d_dis,curve2), axis=1)\n",
    "\n",
    "dis2 = data[\"Distance\"] * d_dis\n",
    "dis3 = np.c_[dis2]\n",
    "elev = np.concatenate((dis3,y), axis=1)\n",
    "\n",
    "\n",
    "dis3[45] = 0.0\n",
    "plt.plot(dis3,y)\n",
    "plt.plot(GPR_x4*d_dis,curve2,'r:')\n",
    "\n",
    "#regressioned elevation data\n",
    "np.info(GPR_elev)\n",
    "print(\"\")\n",
    "#original elevation data\n",
    "np.info(elev)"
   ]
  },
  {
   "cell_type": "code",
   "execution_count": 85,
   "id": "786fdcba",
   "metadata": {
    "scrolled": true
   },
   "outputs": [
    {
     "name": "stdout",
     "output_type": "stream",
     "text": [
      "[1486.99565152]\n",
      "[1486.98365247]\n",
      "[1486.971456]\n",
      "[1486.95907364]\n",
      "[1486.94651648]\n",
      "[490.]\n",
      "[489.]\n",
      "[489.]\n",
      "[489.]\n",
      "[488.]\n",
      "class:  ndarray\n",
      "shape:  (1489, 1)\n",
      "strides:  (8, 8)\n",
      "itemsize:  8\n",
      "aligned:  True\n",
      "contiguous:  True\n",
      "fortran:  True\n",
      "data pointer: 0x5568b251ced0\n",
      "byteorder:  little\n",
      "byteswap:  False\n",
      "type: float64\n"
     ]
    },
    {
     "data": {
      "image/png": "[encoded data removed]",
      "text/plain": [
       "<Figure size 432x288 with 1 Axes>"
      ]
     },
     "metadata": {
      "needs_background": "light"
     },
     "output_type": "display_data"
    }
   ],
   "source": [
    "curve3=np.zeros(shape=(GPR_points,1))\n",
    "\n",
    "for i in range(0,GPR_points,1):\n",
    "    curve3[i] = np.round( (curve2[i] - np.min(curve2))/d_depth ) \n",
    "#    curve3[i] = np.round( (curve2[i] - curve2[0])/d_depth )    \n",
    "#    curve3[i] = np.round( abs( (curve2[i] - curve2[1]) )/d_depth ) \n",
    "\n",
    "print(curve2[0])\n",
    "print(curve2[1])\n",
    "print(curve2[2])\n",
    "print(curve2[3])\n",
    "print(curve2[4])\n",
    "\n",
    "print(curve3[0])\n",
    "print(curve3[1])\n",
    "print(curve3[2])\n",
    "print(curve3[3])\n",
    "print(curve3[4])\n",
    "\n",
    "plt.plot(curve3)\n",
    "\n",
    "np.info(curve3)"
   ]
  },
  {
   "cell_type": "code",
   "execution_count": 86,
   "id": "98a46ee0",
   "metadata": {},
   "outputs": [],
   "source": [
    "fmt = \"%9.3f\"\n",
    "fmt2 = \"%i\"\n",
    "np.savetxt(o_fn,GPR_elev,fmt=(fmt,fmt))\n",
    "np.savetxt(o_fn2,elev)\n",
    "np.savetxt(o_fn3,curve3,fmt=fmt2)"
   ]
  },
  {
   "cell_type": "code",
   "execution_count": null,
   "id": "eabce820",
   "metadata": {},
   "outputs": [],
   "source": []
  }
 ],
 "metadata": {
  "kernelspec": {
   "display_name": "Python 3 (ipykernel)",
   "language": "python",
   "name": "python3"
  },
  "language_info": {
   "codemirror_mode": {
    "name": "ipython",
    "version": 3
   },
   "file_extension": ".py",
   "mimetype": "text/x-python",
   "name": "python",
   "nbconvert_exporter": "python",
   "pygments_lexer": "ipython3",
   "version": "3.9.7"
  }
 },
 "nbformat": 4,
 "nbformat_minor": 5
}
